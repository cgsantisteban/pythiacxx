{
 "cells": [
  {
   "cell_type": "markdown",
   "metadata": {},
   "source": [
    "A basic interface for PYTHIA.\n",
    "\n",
    "[PYTHIA](http://home.thep.lu.se/~torbjorn/pythia83html/Welcome.html) is a general-purpose event generator for high-energy particle collisions."
   ]
  },
  {
   "cell_type": "markdown",
   "metadata": {},
   "source": [
    "Importing CXX.jl"
   ]
  },
  {
   "cell_type": "code",
   "execution_count": 2,
   "metadata": {},
   "outputs": [],
   "source": [
    "using Cxx\n",
    "using Libdl"
   ]
  },
  {
   "cell_type": "markdown",
   "metadata": {},
   "source": [
    "Importing shared library and header file"
   ]
  },
  {
   "cell_type": "code",
   "execution_count": 4,
   "metadata": {},
   "outputs": [],
   "source": [
    "const path_to_lib = pwd()\n",
    "addHeaderDir(path_to_lib, kind=C_System)\n",
    "Libdl.dlopen(path_to_lib * \"/Pythiaexperiment.so\", Libdl.RTLD_GLOBAL)\n",
    "cxxinclude(path_to_lib * \"/src/Pythiaexperiment.h\")"
   ]
  },
  {
   "cell_type": "markdown",
   "metadata": {},
   "source": [
    "Creating class object\n",
    "\n",
    "* ```out_event_file``` *Pythia event list file*\n",
    "* ```is_final_event = false ```  *All events are considered*\n",
    "* ```is_charged_event = false ```  *Charged and no charged events are considered*"
   ]
  },
  {
   "cell_type": "code",
   "execution_count": 5,
   "metadata": {},
   "outputs": [
    {
     "data": {
      "text/plain": [
       "(class PythiaExperiment *) @0x000055ac44aedea0\n"
      ]
     },
     "execution_count": 5,
     "metadata": {},
     "output_type": "execute_result"
    }
   ],
   "source": [
    "is_final_event = false\n",
    "is_charged_event = false\n",
    "out_event_file = \"my_out_csv.csv\"\n",
    "pythia = @cxxnew PythiaExperiment(pointer(out_event_file),is_final_event,is_charged_event)"
   ]
  },
  {
   "cell_type": "markdown",
   "metadata": {},
   "source": [
    "Pythia example: main02 ( [view Pythia examples](http://home.thep.lu.se/~torbjorn/pythia83html/Welcome.html) \n",
    "and [Pythia documentation](http://home.thep.lu.se/~torbjorn/pythia83html/Welcome.html) )\n",
    "* Beam: p + anti-p\n",
    "* Energy (CM) 1960 GeV\n",
    "* WeakSingleBoson: f + anti-f ⇾ γ + Z<sup>0</sup>\n",
    "* Minimum invariant mass 80 GeV\n",
    "* Maximum invariant mass 120 GeV"
   ]
  },
  {
   "cell_type": "code",
   "execution_count": 6,
   "metadata": {},
   "outputs": [
    {
     "name": "stdout",
     "output_type": "stream",
     "text": [
      "Added parameter: Main:numberOfEvents = 1000\n",
      "Added parameter: Beams:idB = -2212\n",
      "Added parameter: Beams:eCM = 1960.\n",
      "Added parameter: WeakSingleBoson:ffbar2gmZ = on\n",
      "Added parameter: PhaseSpace:mHatMin = 80.\n",
      "Added parameter: PhaseSpace:mHatMax = 120.\n"
     ]
    }
   ],
   "source": [
    "@cxx pythia->readString(pointer(\"Main:numberOfEvents = 1000\"))\n",
    "@cxx pythia->readString(pointer(\"Beams:idB = -2212\"))\n",
    "@cxx pythia->readString(pointer(\"Beams:eCM = 1960.\"))\n",
    "@cxx pythia->readString(pointer(\"WeakSingleBoson:ffbar2gmZ = on\"))\n",
    "@cxx pythia->readString(pointer(\"PhaseSpace:mHatMin = 80.\"))\n",
    "@cxx pythia->readString(pointer(\"PhaseSpace:mHatMax = 120.\"))"
   ]
  },
  {
   "cell_type": "markdown",
   "metadata": {},
   "source": [
    "Pythia parameters list\n",
    "\n",
    "Function arguments:\n",
    "\n",
    "* **macro** : List of parameters\n",
    "\n",
    "* **histogram** : List of histograms"
   ]
  },
  {
   "cell_type": "code",
   "execution_count": 7,
   "metadata": {},
   "outputs": [
    {
     "name": "stdout",
     "output_type": "stream",
     "text": [
      "Macro instructions\n",
      "[1] Main:numberOfEvents = 1000\n",
      "[2] Beams:idB = -2212\n",
      "[3] Beams:eCM = 1960.\n",
      "[4] WeakSingleBoson:ffbar2gmZ = on\n",
      "[5] PhaseSpace:mHatMin = 80.\n",
      "[6] PhaseSpace:mHatMax = 120.\n"
     ]
    }
   ],
   "source": [
    "@cxx pythia -> listElement(pointer(\"macro\")) # macro -> pythia parameters"
   ]
  },
  {
   "cell_type": "markdown",
   "metadata": {},
   "source": [
    "Data histogram\n",
    "\n",
    "Function arguments:\n",
    "\n",
    "* **Data:**\n",
    "    * **p<sub>x</sub>** : p<sub>x</sub> four-momentum component (GeV/c).\n",
    "    \n",
    "\t* **p<sub>y</sub>** : p<sub>y</sub> four-momentum component (GeV/c).\n",
    "    \n",
    "    * **p<sub>z</sub>** : p<sub>z</sub> four-momentum component (GeV/c).\n",
    "    \n",
    "    * **e** : e four-momentum component (GeV).\n",
    "    \n",
    "\t* **xProd** : x production vertex coordinate (mm).\n",
    "    \n",
    "    * **yProd** : y production vertex coordinate (mm).\n",
    "    \n",
    "    * **zProd** : z production vertex coordinate (mm).\n",
    "\t\n",
    "\t* **tProd** : t production vertex coordinate (mm/c).\n",
    "    \n",
    "\t* **pT** : transverse momentum (GeV/c).\n",
    "    \n",
    "    * **pT2** : square transverse momentum (GeV/c)<sup>2</sup>.\n",
    "    \n",
    "\t* **eT** : transverse energy (GeV).\n",
    "    \n",
    "    * **eT2** : square transverse energy (GeV)<sup>2</sup>.\n",
    "\t\n",
    "\t* **y** : rapidity.\n",
    "    \n",
    "    * **eta** : pseudorapidity.\n",
    "\n",
    "\t* **theta** : polar azimuthal angle.\n",
    "    \n",
    "    * **phi** : azimuthal angle.\n",
    "\t\n",
    "\t* **mT** : transverse mass (GeV).\n",
    "    \n",
    "    * **mT2** : squared transverse mass (GeV)<sup>2</sup>.\n",
    "\n",
    "* PDG particle codes. [Online list](http://pdg.lbl.gov/2014/reviews/rpp2014-rev-monte-carlo-numbering.pdf)\n",
    "\n",
    "Short summary of the most common pdg ([PYTHIA Worksheet](http://home.thep.lu.se/~torbjorn/pdfdoc/worksheet8200.pdf) page 17)\n",
    "\n",
    "![PDG list](./img/pdg_list.png)\n",
    "\n"
   ]
  },
  {
   "cell_type": "code",
   "execution_count": 8,
   "metadata": {},
   "outputs": [
    {
     "name": "stdout",
     "output_type": "stream",
     "text": [
      "Added histogram: Data pT, particle 23\n"
     ]
    }
   ],
   "source": [
    "@cxx pythia->addHist(pointer(\"pT\"),23) # Z^0 transverse momentum"
   ]
  },
  {
   "cell_type": "markdown",
   "metadata": {},
   "source": [
    "Run pythia"
   ]
  },
  {
   "cell_type": "code",
   "execution_count": 9,
   "metadata": {},
   "outputs": [
    {
     "name": "stdout",
     "output_type": "stream",
     "text": [
      "\n",
      " *------------------------------------------------------------------------------------* \n",
      " |                                                                                    | \n",
      " |  *------------------------------------------------------------------------------*  | \n",
      " |  |                                                                              |  | \n",
      " |  |                                                                              |  | \n",
      " |  |   PPP   Y   Y  TTTTT  H   H  III    A      Welcome to the Lund Monte Carlo!  |  | \n",
      " |  |   P  P   Y Y     T    H   H   I    A A     This is PYTHIA version 8.303      |  | \n",
      " |  |   PPP     Y      T    HHHHH   I   AAAAA    Last date of change:  1 Sep 2020  |  | \n",
      " |  |   P       Y      T    H   H   I   A   A                                      |  | \n",
      " |  |   P       Y      T    H   H  III  A   A    Now is 04 nov 2020 at 16:47:21    |  | \n",
      " |  |                                                                              |  | \n",
      " |  |   Christian Bierlich;  Department of Astronomy and Theoretical Physics,      |  | \n",
      " |  |      Lund University, Solvegatan 14A, SE-223 62 Lund, Sweden;                |  | \n",
      " |  |      e-mail: christian.bierlich@thep.lu.se                                   |  | \n",
      " |  |   Nishita Desai;  Department of Theoretical Physics, Tata Institute,         |  | \n",
      " |  |      Homi Bhabha Road, Mumbai 400005, India;                                 |  | \n",
      " |  |      e-mail: desai@theory.tifr.res.in                                        |  | \n",
      " |  |   Leif Gellersen;  Department of Astronomy and Theoretical Physics,          |  | \n",
      " |  |      Lund University, Solvegatan 14A, SE-223 62 Lund, Sweden;                |  | \n",
      " |  |      e-mail: leif.gellersen@thep.lu.se                                       |  | \n",
      " |  |   Ilkka Helenius;  Department of Physics, University of Jyvaskyla,           |  | \n",
      " |  |      P.O. Box 35, FI-40014 University of Jyvaskyla, Finland;                 |  | \n",
      " |  |      e-mail: ilkka.m.helenius@jyu.fi                                         |  | \n",
      " |  |   Philip Ilten;  Department of Physics,                                      |  | \n",
      " |  |      University of Cincinnati, Cincinnati, OH 45221, USA;                    |  | \n",
      " |  |      School of Physics and Astronomy,                                        |  | \n",
      " |  |      University of Birmingham, Birmingham, B152 2TT, UK;                     |  | \n",
      " |  |      e-mail: philten@cern.ch                                                 |  | \n",
      " |  |   Leif Lonnblad;  Department of Astronomy and Theoretical Physics,           |  | \n",
      " |  |      Lund University, Solvegatan 14A, SE-223 62 Lund, Sweden;                |  | \n",
      " |  |      e-mail: leif.lonnblad@thep.lu.se                                        |  | \n",
      " |  |   Stephen Mrenna;  Computing Division, Simulations Group,                    |  | \n",
      " |  |      Fermi National Accelerator Laboratory, MS 234, Batavia, IL 60510, USA;  |  | \n",
      " |  |      e-mail: mrenna@fnal.gov                                                 |  | \n",
      " |  |   Stefan Prestel;  Department of Astronomy and Theoretical Physics,          |  | \n",
      " |  |      Lund University, Solvegatan 14A, SE-223 62 Lund, Sweden;                |  | \n",
      " |  |      e-mail: stefan.prestel@thep.lu.se                                       |  | \n",
      " |  |   Christine O. Rasmussen;  Department of Astronomy and Theoretical Physics,  |  | \n",
      " |  |      Lund University, Solvegatan 14A, SE-223 62 Lund, Sweden;                |  | \n",
      " |  |      e-mail: christine.rasmussen@thep.lu.se                                  |  | \n",
      " |  |   Torbjorn Sjostrand;  Department of Astronomy and Theoretical Physics,      |  | \n",
      " |  |      Lund University, Solvegatan 14A, SE-223 62 Lund, Sweden;                |  | \n",
      " |  |      e-mail: torbjorn@thep.lu.se                                             |  | \n",
      " |  |   Peter Skands;  School of Physics and Astronomy,                            |  | \n",
      " |  |      Monash University, PO Box 27, 3800 Melbourne, Australia;                |  | \n",
      " |  |      e-mail: peter.skands@monash.edu                                         |  | \n",
      " |  |   Marius Utheim;  Department of Astronomy and Theoretical Physics,           |  | \n",
      " |  |      Lund University, Solvegatan 14A, SE-223 62 Lund, Sweden;                |  | \n",
      " |  |      e-mail: marius.utheim@thep.lu.se                                        |  | \n",
      " |  |                                                                              |  | \n",
      " |  |   The main program reference is 'An Introduction to PYTHIA 8.2',             |  | \n",
      " |  |   T. Sjostrand et al, Comput. Phys. Commun. 191 (2015) 159                   |  | \n",
      " |  |   [arXiv:1410.3012 [hep-ph]]                                                 |  | \n",
      " |  |                                                                              |  | \n",
      " |  |   The main physics reference is the 'PYTHIA 6.4 Physics and Manual',         |  | \n",
      " |  |   T. Sjostrand, S. Mrenna and P. Skands, JHEP05 (2006) 026 [hep-ph/0603175]  |  | \n",
      " |  |                                                                              |  | \n",
      " |  |   An archive of program versions and documentation is found on the web:      |  | \n",
      " |  |   http://www.thep.lu.se/Pythia                                               |  | \n",
      " |  |                                                                              |  | \n",
      " |  |   This program is released under the GNU General Public Licence version 2.   |  | \n",
      " |  |   Please respect the MCnet Guidelines for Event Generator Authors and Users. |  | \n",
      " |  |                                                                              |  | \n",
      " |  |   Disclaimer: this program comes without any guarantees.                     |  | \n",
      " |  |   Beware of errors and use common sense when interpreting results.           |  | \n",
      " |  |                                                                              |  | \n",
      " |  |   Copyright (C) 2020 Torbjorn Sjostrand                                      |  | \n",
      " |  |                                                                              |  | \n",
      " |  |                                                                              |  | \n",
      " |  *------------------------------------------------------------------------------*  | \n",
      " |                                                                                    | \n",
      " *------------------------------------------------------------------------------------* \n",
      "\n",
      "\n",
      " *-------  PYTHIA Process Initialization  --------------------------*\n",
      " |                                                                  |\n",
      " | We collide p+ with pbar- at a CM energy of 1.960e+03 GeV         |\n",
      " |                                                                  |\n",
      " |------------------------------------------------------------------|\n",
      " |                                                    |             |\n",
      " | Subprocess                                    Code |   Estimated |\n",
      " |                                                    |    max (mb) |\n",
      " |                                                    |             |\n",
      " |------------------------------------------------------------------|\n",
      " |                                                    |             |\n",
      " | f fbar -> gamma*/Z0                            221 |   2.308e-05 |\n",
      " |                                                                  |\n",
      " *-------  End PYTHIA Process Initialization -----------------------*\n",
      "\n",
      " *-------  PYTHIA Multiparton Interactions Initialization  ---------* \n",
      " |                                                                  | \n",
      " |                   sigmaNonDiffractive =    40.64 mb              | \n",
      " |                                                                  | \n",
      " |    pT0 =  1.73 gives sigmaInteraction =   140.75 mb: accepted    | \n",
      " |                                                                  | \n",
      " *-------  End PYTHIA Multiparton Interactions Initialization  -----* \n",
      "\n",
      " *-------  PYTHIA Flag + Mode + Parm + Word + FVec + MVec + PVec + WVec Settings (changes only)  ------------------* \n",
      " |                                                                                                                 | \n",
      " | Name                                          |                      Now |      Default         Min         Max | \n",
      " |                                               |                          |                                      | \n",
      " | Beams:eCM                                     |                 1960.000 |    14000.000         0.0             | \n",
      " | Beams:idB                                     |                    -2212 |         2212                         | \n",
      " | PhaseSpace:mHatMax                            |                120.00000 |     -1.00000                         | \n",
      " | PhaseSpace:mHatMin                            |                 80.00000 |      4.00000         0.0             | \n",
      " | WeakSingleBoson:ffbar2gmZ                     |                       on |          off                         | \n",
      " |                                                                                                                 | \n",
      " *-------  End PYTHIA Flag + Mode + Parm + Word + FVec + MVec + PVec + WVec Settings  -----------------------------* \n",
      "\n",
      " --------  PYTHIA Particle Data Table (changed only)  ------------------------------------------------------------------------------\n",
      " \n",
      "      id   name            antiName         spn chg col      m0        mWidth      mMin       mMax       tau0    res dec ext vis wid\n",
      "             no onMode   bRatio   meMode     products \n",
      "\n",
      " no particle data has been changed from its default value \n",
      "\n",
      " --------  End PYTHIA Particle Data Table  -----------------------------------------------------------------------------------------\n",
      "\n",
      "\n",
      " --------  PYTHIA Info Listing  ---------------------------------------- \n",
      " \n",
      " Beam A: id =   2212, pz =  9.800e+02, e =  9.800e+02, m =  9.383e-01.\n",
      " Beam B: id =  -2212, pz = -9.800e+02, e =  9.800e+02, m =  9.383e-01.\n",
      "\n",
      " In 1: id =    2, x =  2.749e-02, pdf =  6.418e-01 at Q2 =  7.672e+03.\n",
      " In 2: id =   -2, x =  7.264e-02, pdf =  6.092e-01 at same Q2.\n",
      "\n",
      " Subprocess f fbar -> gamma*/Z0 with code 221 is 2 -> 1.\n",
      " It has sHat =  7.672e+03.\n",
      "     alphaEM =  7.814e-03,  alphaS =  1.308e-01    at Q2 =  7.672e+03.\n",
      "\n",
      " Impact parameter b =  1.301e+00 gives enhancement factor =  2.503e-01.\n",
      " Max pT scale for MPI =  1.960e+03, ISR =  1.960e+03, FSR =  1.960e+03.\n",
      " Number of MPI =     1, ISR =     3, FSRproc =     7, FSRreson =     7.\n",
      "\n",
      " --------  End PYTHIA Info Listing  ------------------------------------\n",
      "\n",
      " --------  PYTHIA Event Listing  (hard process)  -----------------------------------------------------------------------------------\n",
      " \n",
      "    no         id  name            status     mothers   daughters     colours      p_x        p_y        p_z         e          m \n",
      "     0         90  (system)           -11     0     0     0     0     0     0      0.000      0.000      0.000   1960.000   1960.000\n",
      "     1       2212  (p+)               -12     0     0     3     0     0     0      0.000      0.000    980.000    980.000      0.938\n",
      "     2      -2212  (pbar-)            -12     0     0     4     0     0     0      0.000      0.000   -980.000    980.000      0.938\n",
      "     3          2  (u)                -21     1     0     5     0   101     0      0.000      0.000     26.942     26.942      0.000\n",
      "     4         -2  (ubar)             -21     2     0     5     0     0   101      0.000      0.000    -71.186     71.186      0.000\n",
      "     5         23  (Z0)               -22     3     4     6     7     0     0      0.000      0.000    -44.244     98.128     87.588\n",
      "     6          3  s                   23     5     0     0     0   102     0     22.078    -37.621    -26.439     51.010      0.500\n",
      "     7         -3  sbar                23     5     0     0     0     0   102    -22.078     37.621    -17.805     47.118      0.500\n",
      "                                   Charge sum:  0.000           Momentum sum:      0.000      0.000    -44.244     98.128     87.588\n",
      "\n",
      " --------  End PYTHIA Event Listing  -----------------------------------------------------------------------------------------------\n",
      "\n",
      " --------  PYTHIA Event Listing  (complete event)  ---------------------------------------------------------------------------------\n",
      " \n",
      "    no         id  name            status     mothers   daughters     colours      p_x        p_y        p_z         e          m \n",
      "     0         90  (system)           -11     0     0     0     0     0     0      0.000      0.000      0.000   1960.000   1960.000\n",
      "     1       2212  (p+)               -12     0     0    42     0     0     0      0.000      0.000    980.000    980.000      0.938\n",
      "     2      -2212  (pbar-)            -12     0     0    43     0     0     0      0.000      0.000   -980.000    980.000      0.938\n",
      "     3          2  (u)                -21     6     0     5     0   101     0      0.000      0.000     26.942     26.942      0.000\n",
      "     4         -2  (ubar)             -21     7     7     5     0     0   101      0.000      0.000    -71.186     71.186      0.000\n",
      "     5         23  (Z0)               -22     3     4     8     8     0     0      0.000      0.000    -44.244     98.128     87.588\n",
      "     6          2  (u)                -41    10    10     9     3   103     0     -0.000     -0.000     39.927     39.927      0.000\n",
      "     7         -2  (ubar)             -42    11     0     4     4     0   101     -0.000     -0.000    -71.186     71.186      0.000\n",
      "     8         23  (Z0)               -44     5     5    12    12     0     0     -7.816    -12.478    -16.634     90.361     87.588\n",
      "     9         21  (g)                -43     6     0    13    13   103   101      7.816     12.478    -14.625     20.753      0.000\n",
      "    10          2  (u)                -42    15     0     6     6   103     0     -0.000      0.000     39.927     39.927      0.000\n",
      "    11         -2  (ubar)             -41    16    16    14     7     0   104      0.000     -0.000    -86.162     86.162      0.000\n",
      "    12         23  (Z0)               -44     8     8    17    17     0     0    -12.924     -6.828    -26.722     92.732     87.588\n",
      "    13         21  (g)                -44     9     9    18    18   103   101      6.127     14.346    -16.668     22.829      0.000\n",
      "    14         21  (g)                -43    11     0    19    19   101   104      6.797     -7.519     -2.844     10.527      0.000\n",
      "    15          2  (u)                -41    42    42    20    10   105     0      0.000     -0.000     49.218     49.218      0.000\n",
      "    16         -2  (ubar)             -42    43    43    11    11     0   104      0.000      0.000    -86.162     86.162      0.000\n",
      "    17         23  (Z0)               -44    12    12    44    44     0     0     -6.824     -9.589    -23.542     91.457     87.588\n",
      "    18         21  (g)                -44    13    13    21    22   103   101      6.696     14.088    -16.024     22.363      0.000\n",
      "    19         21  (g)                -44    14    14    23    23   101   104      7.507     -7.840     -3.501     11.405      0.000\n",
      "    20         21  (g)                -43    15     0    26    26   105   103     -7.380      3.341      6.123     10.155      0.000\n",
      "    21         21  (g)                -51    18     0    24    25   103   106      6.897     10.710    -14.523     19.318      0.000\n",
      "    22         21  (g)                -51    18     0    32    32   106   101      0.090      3.076     -1.636      3.485      0.000\n",
      "    23         21  (g)                -52    19    19    30    31   101   104      7.218     -7.537     -3.366     10.965      0.000\n",
      "    24         21  (g)                -51    21     0    29    29   107   106      3.492      6.214    -10.679     12.839      0.000\n",
      "    25         21  (g)                -51    21     0    27    28   103   107      3.233      4.573     -3.703      6.714      0.000\n",
      "    26         21  (g)                -52    20    20    47    47   105   103     -7.209      3.263      5.981      9.919      0.000\n",
      "    27         21  (g)                -51    25     0    49    49   103   108      0.148      1.707     -0.933      1.951      0.000\n",
      "    28         21  (g)                -51    25     0    33    34   108   107      4.677      5.698     -7.637     10.614      0.000\n",
      "    29         21  (g)                -52    24    24    35    35   107   106      1.901      3.382     -5.812      6.988      0.000\n",
      "    30         21  (g)                -51    23     0    46    46   109   104      0.311     -0.372      0.527      0.716      0.000\n",
      "    31         21  (g)                -51    23     0    38    38   101   109      6.914     -6.888     -4.040     10.563      0.000\n",
      "    32         21  (g)                -52    22    22    36    37   106   101      0.082      2.799     -1.488      3.171      0.000\n",
      "    33         21  (g)                -51    28     0    50    50   108   110      2.905      4.256     -4.871      7.091      0.000\n",
      "    34         21  (g)                -51    28     0    52    52   110   107      3.198      3.978     -7.124      8.763      0.000\n",
      "    35         21  (g)                -52    29    29    45    45   107   106      0.475      0.846     -1.454      1.748      0.000\n",
      "    36         21  (g)                -51    32     0    48    48   106   111     -0.237      1.978     -0.544      2.065      0.000\n",
      "    37         21  (g)                -51    32     0    41    41   111   101      0.454      0.686     -1.023      1.312      0.000\n",
      "    38         21  (g)                -52    31    31    39    40   101   109      6.779     -6.753     -3.961     10.356      0.000\n",
      "    39         21  (g)                -51    38     0    51    51   112   109      6.295     -5.547     -3.436      9.066      0.000\n",
      "    40         21  (g)                -51    38     0    54    54   101   112      0.523     -1.148     -0.613      1.402      0.000\n",
      "    41         21  (g)                -52    37    37    53    53   111   101      0.415      0.627     -0.935      1.200      0.000\n",
      "    42          2  (u)                -61     1     0    15    15   105     0     -0.398      0.809     49.214     49.223      0.000\n",
      "    43         -2  (ubar)             -61     2     0    16    16     0   104      0.601      0.814    -86.162     86.167      0.000\n",
      "    44         23  (Z0)               -62    17    17    57    58     0     0     -6.698     -8.489    -23.562     91.344     87.588\n",
      "    45         21  (g)                -62    35    35    81     0   107   106      0.485      0.863     -1.453      1.758      0.000\n",
      "    46         21  (g)                -62    30    30   107   107   109   104      0.307     -0.361      0.530      0.711      0.000\n",
      "    47         21  (g)                -62    26    26   115   115   105   103     -7.259      3.413      5.915      9.967      0.000\n",
      "    48         21  (g)                -62    36    36   111   111   106   111     -0.234      2.003     -0.553      2.091      0.000\n",
      "    49         21  (g)                -62    27    27   114   114   103   108      0.153      1.729     -0.938      1.973      0.000\n",
      "    50         21  (g)                -62    33    33   113   113   108   110      2.938      4.331     -4.864      7.145      0.000\n",
      "    51         21  (g)                -62    39    39   108   108   112   109      6.316     -5.442     -3.369      8.992      0.000\n",
      "    52         21  (g)                -62    34    34    81     0   110   107      3.246      4.067     -7.114      8.814      0.000\n",
      "    53         21  (g)                -62    41    41   110   110   111   101      0.421      0.639     -0.935      1.208      0.000\n",
      "    54         21  (g)                -62    40    40   109   109   101   112      0.527     -1.132     -0.605      1.387      0.000\n",
      "    55       2103  (ud_1)             -63     1     0   116   116     0   105      0.398     -0.809    930.778    930.779      0.771\n",
      "    56      -2101  (ud_0bar)          -63     2     0   106   106   104     0     -0.601     -0.814   -893.831    893.831      0.579\n",
      "    57          3  (s)                -23    44     0    61    61   102     0     18.559    -42.082    -15.570     48.559      0.500\n",
      "    58         -3  (sbar)             -23    44     0    59    60     0   102    -25.256     33.593     -7.992     42.785      0.500\n",
      "    59         -3  (sbar)             -51    58     0    64    64     0   116    -26.983     30.511     -9.618     41.854      0.500\n",
      "    60         21  (g)                -51    58     0    62    63   116   102      2.513      1.298      0.965      2.989      0.000\n",
      "    61          3  (s)                -52    57    57    65    66   102     0     17.772    -40.298    -14.910     46.501      0.500\n",
      "    62         21  (g)                -51    60     0    67    67   117   102      2.365      2.313      1.383      3.585      0.000\n",
      "    63         21  (g)                -51    60     0    76    76   116   117     -1.811      1.201     -1.117      2.443      0.000\n",
      "    64         -3  (sbar)             -52    59    59    89    89     0   116    -25.023     28.295     -8.919     38.815      0.500\n",
      "    65          3  (s)                -51    61     0    71    72   118     0     14.090    -31.428    -12.998     36.816      0.500\n",
      "    66         21  (g)                -51    61     0    70    70   102   118      3.732     -8.821     -1.883      9.761      0.000\n",
      "    67         21  (g)                -52    62    62    68    69   117   102      2.314      2.264      1.354      3.509      0.000\n",
      "    68         21  (g)                -51    67     0    74    75   117   119      2.437      0.722      0.781      2.659      0.000\n",
      "    69         21  (g)                -51    67     0    79    79   119   102      0.036      1.166      0.493      1.266      0.000\n",
      "    70         21  (g)                -52    66    66    73    73   102   118      3.573     -8.445     -1.803      9.345      0.000\n",
      "    71          3  (s)                -51    65     0    82    82   120     0     14.136    -31.917    -13.121     37.295      0.500\n",
      "    72         21  (g)                -51    65     0    80     0   118   120      1.170     -2.382     -0.489      2.699      0.000\n",
      "    73         21  (g)                -52    70    70    77    78   102   118      2.358     -5.573     -1.190      6.167      0.000\n",
      "    74         21  (g)                -51    68     0    86    86   121   119      2.407      0.632      0.234      2.500      0.000\n",
      "    75         21  (g)                -51    68     0    87    87   117   121     -0.240      0.269      0.381      0.524      0.000\n",
      "    76         21  (g)                -52    63    63    88    88   116   117     -1.541      1.022     -0.950      2.079      0.000\n",
      "    77         21  (g)                -51    73     0    80     0   122   118      1.496     -4.719     -0.689      4.998      0.000\n",
      "    78         21  (g)                -51    73     0    84    84   102   122      0.865     -0.778     -0.468      1.253      0.000\n",
      "    79         21  (g)                -52    69    69    85    85   119   102      0.034      1.089      0.460      1.182      0.000\n",
      "    80         21  (g)                -73    72    77    83    83   122   120      2.665     -7.101     -1.179      7.697      0.565\n",
      "    81         21  (g)                -73    45    52   112   112   110   106      3.732      4.931     -8.566     10.572      0.389\n",
      "    82          3  (s)                -71    71    71    90   105   120     0     14.136    -31.917    -13.121     37.295      0.500\n",
      "    83         21  (g)                -71    80    80    90   105   122   120      2.665     -7.101     -1.179      7.697      0.565\n",
      "    84         21  (g)                -71    78    78    90   105   102   122      0.865     -0.778     -0.468      1.253      0.000\n",
      "    85         21  (g)                -71    79    79    90   105   119   102      0.034      1.089      0.460      1.182      0.000\n",
      "    86         21  (g)                -71    74    74    90   105   121   119      2.407      0.632      0.234      2.500      0.000\n",
      "    87         21  (g)                -71    75    75    90   105   117   121     -0.240      0.269      0.381      0.524      0.000\n",
      "    88         21  (g)                -71    76    76    90   105   116   117     -1.541      1.022     -0.950      2.079      0.000\n",
      "    89         -3  (sbar)             -71    64    64    90   105     0   116    -25.023     28.295     -8.919     38.815      0.500\n",
      "    90       -311  (Kbar0)            -83    82    89   159   159     0     0      4.779    -11.338     -4.491     13.107      0.498\n",
      "    91       -213  (rho-)             -83    82    89   160   161     0     0      3.050     -6.638     -2.858      7.886      0.811\n",
      "    92        211  pi+                 83    82    89     0     0     0     0      1.879     -4.555     -1.126      5.056      0.140\n",
      "    93        313  (K*0)              -83    82    89   162   163     0     0      4.006     -9.457     -3.909     11.025      0.892\n",
      "    94       -313  (K*bar0)           -83    82    89   164   165     0     0      2.631     -5.782     -2.183      6.780      0.923\n",
      "    95       -211  pi-                 83    82    89     0     0     0     0      0.591     -0.892      0.001      1.079      0.140\n",
      "    96        321  K+                  83    82    89     0     0     0     0      0.462     -0.746     -0.291      1.048      0.494\n",
      "    97       -321  K-                  84    82    89     0     0     0     0      1.045      0.698      0.713      1.527      0.494\n",
      "    98        213  (rho+)             -84    82    89   166   167     0     0      0.237      0.149     -0.260      0.950      0.870\n",
      "    99        111  (pi0)              -84    82    89   198   199     0     0      0.791      0.080      0.312      0.864      0.135\n",
      "   100        111  (pi0)              -84    82    89   200   201     0     0      0.115      0.291      0.056      0.345      0.135\n",
      "   101        221  (eta)              -84    82    89   202   203     0     0     -0.786      0.655     -0.491      1.260      0.548\n",
      "   102        113  (rho0)             -84    82    89   168   169     0     0     -0.413      1.731     -0.116      1.938      0.760\n",
      "   103        111  (pi0)              -84    82    89   204   205     0     0     -1.762      0.544     -0.504      1.917      0.135\n",
      "   104       2112  n0                  84    82    89     0     0     0     0     -8.111      9.892     -2.772     13.123      0.940\n",
      "   105      -3122  (Lambdabar0)       -84    82    89   206   207     0     0    -15.212     16.877     -5.644     23.438      1.116\n",
      "   106      -2101  (ud_0bar)          -71    56    56   117   158   104     0     -0.601     -0.814   -893.831    893.831      0.579\n",
      "   107         21  (g)                -71    46    46   117   158   109   104      0.307     -0.361      0.530      0.711      0.000\n",
      "   108         21  (g)                -71    51    51   117   158   112   109      6.316     -5.442     -3.369      8.992      0.000\n",
      "   109         21  (g)                -71    54    54   117   158   101   112      0.527     -1.132     -0.605      1.387      0.000\n",
      "   110         21  (g)                -71    53    53   117   158   111   101      0.421      0.639     -0.935      1.208      0.000\n",
      "   111         21  (g)                -71    48    48   117   158   106   111     -0.234      2.003     -0.553      2.091      0.000\n",
      "   112         21  (g)                -71    81    81   117   158   110   106      3.732      4.931     -8.566     10.572      0.389\n",
      "   113         21  (g)                -71    50    50   117   158   108   110      2.938      4.331     -4.864      7.145      0.000\n",
      "   114         21  (g)                -71    49    49   117   158   103   108      0.153      1.729     -0.938      1.973      0.000\n",
      "   115         21  (g)                -71    47    47   117   158   105   103     -7.259      3.413      5.915      9.967      0.000\n",
      "   116       2103  (ud_1)             -71    55    55   117   158     0   105      0.398     -0.809    930.778    930.779      0.771\n",
      "   117       -211  pi-                 83   106   116     0     0     0     0      0.275      0.219    -89.638     89.639      0.140\n",
      "   118      -1114  (Deltabar+)        -83   106   116   170   171     0     0     -0.786     -0.477   -325.826    325.830      1.242\n",
      "   119        111  (pi0)              -83   106   116   208   209     0     0     -0.242     -0.298   -109.466    109.466      0.135\n",
      "   120       -211  pi-                 83   106   116     0     0     0     0      0.382     -0.307   -185.991    185.992      0.140\n",
      "   121        321  K+                  83   106   116     0     0     0     0     -0.023      0.021    -12.941     12.951      0.494\n",
      "   122       -323  (K*-)              -83   106   116   172   173     0     0     -0.358      0.190   -164.987    164.990      0.873\n",
      "   123        211  pi+                 83   106   116     0     0     0     0      0.009     -0.042     -2.071      2.077      0.140\n",
      "   124        223  (omega)            -83   106   116   210   212     0     0      0.140      0.240     -1.295      1.542      0.791\n",
      "   125       -211  pi-                 83   106   116     0     0     0     0      0.247     -0.432     -0.848      0.993      0.140\n",
      "   126        213  (rho+)             -83   106   116   174   175     0     0      0.538     -0.649     -0.496      1.260      0.794\n",
      "   127        111  (pi0)              -83   106   116   213   214     0     0      0.614     -0.882     -0.876      1.394      0.135\n",
      "   128       -211  pi-                 83   106   116     0     0     0     0      0.456     -0.417      0.391      0.744      0.140\n",
      "   129        113  (rho0)             -83   106   116   176   177     0     0      1.721     -1.730     -1.669      3.073      0.838\n",
      "   130        213  (rho+)             -83   106   116   178   179     0     0      1.194     -0.910     -0.440      1.725      0.727\n",
      "   131        111  (pi0)              -83   106   116   215   216     0     0      2.195     -2.093     -1.207      3.267      0.135\n",
      "   132       -211  pi-                 84   106   116     0     0     0     0     -0.150      0.541      0.007      0.579      0.140\n",
      "   133        223  (omega)            -84   106   116   217   219     0     0      1.332      1.697     -3.071      3.835      0.784\n",
      "   134        111  (pi0)              -84   106   116   220   221     0     0      1.807      2.557     -3.032      4.361      0.135\n",
      "   135        223  (omega)            -84   106   116   222   223     0     0      1.202      2.169     -2.005      3.284      0.787\n",
      "   136        211  pi+                 84   106   116     0     0     0     0     -0.247      0.222     -0.432      0.562      0.140\n",
      "   137       -213  (rho-)             -84   106   116   180   181     0     0      1.828      2.721     -3.639      4.958      0.774\n",
      "   138       2212  p+                  84   106   116     0     0     0     0      0.284      1.322     -1.286      2.089      0.938\n",
      "   139      -2212  pbar-               84   106   116     0     0     0     0      0.397      0.586     -0.809      1.427      0.938\n",
      "   140        221  (eta)              -84   106   116   224   226     0     0     -0.767      0.527     -0.350      1.136      0.548\n",
      "   141        211  pi+                 84   106   116     0     0     0     0     -0.328      0.327      0.211      0.527      0.140\n",
      "   142        223  (omega)            -84   106   116   227   229     0     0      0.423      0.605      0.679      1.284      0.802\n",
      "   143       -211  pi-                 84   106   116     0     0     0     0     -1.459      0.826      0.158      1.689      0.140\n",
      "   144        213  (rho+)             -84   106   116   182   183     0     0     -0.513      1.097      0.660      1.599      0.809\n",
      "   145       -211  pi-                 84   106   116     0     0     0     0     -0.184     -0.549      0.439      0.740      0.140\n",
      "   146       3214  (Sigma*0)          -84   106   116   184   185     0     0     -2.436      1.620      3.129      4.504      1.390\n",
      "   147        113  (rho0)             -84   106   116   186   187     0     0     -0.419      0.122      0.282      0.845      0.667\n",
      "   148      -3212  (Sigmabar0)        -84   106   116   230   231     0     0     -0.356      0.082      5.065      5.216      1.193\n",
      "   149        221  (eta)              -84   106   116   232   234     0     0     -0.565      0.210     11.216     11.246      0.548\n",
      "   150        213  (rho+)             -84   106   116   188   189     0     0      0.281     -0.072      8.898      8.941      0.820\n",
      "   151        223  (omega)            -84   106   116   235   237     0     0     -0.057      0.304      9.606      9.642      0.777\n",
      "   152        311  (K0)               -84   106   116   190   190     0     0      0.186     -0.092     19.833     19.840      0.498\n",
      "   153       -311  (Kbar0)            -84   106   116   191   191     0     0     -0.319      0.060      6.851      6.877      0.498\n",
      "   154       -213  (rho-)             -84   106   116   192   193     0     0      0.190      0.347     30.719     30.732      0.808\n",
      "   155        211  pi+                 84   106   116     0     0     0     0     -0.222     -0.288    125.929    125.930      0.140\n",
      "   156        223  (omega)            -84   106   116   238   240     0     0      0.290     -0.450    133.345    133.348      0.789\n",
      "   157       2112  n0                  84   106   116     0     0     0     0      0.304     -0.507    292.844    292.846      0.940\n",
      "   158        113  (rho0)             -84   106   116   194   195     0     0     -0.164      0.071    285.677    285.678      0.658\n",
      "   159        310  (K_S0)             -91    90    90   241   242     0     0      4.779    -11.338     -4.491     13.107      0.498\n",
      "   160       -211  pi-                 91    91     0     0     0     0     0      1.748     -4.422     -1.579      5.012      0.140\n",
      "   161        111  (pi0)              -91    91     0   243   244     0     0      1.302     -2.216     -1.279      2.874      0.135\n",
      "   162        321  K+                  91    93     0     0     0     0     0      1.921     -4.544     -2.150      5.404      0.494\n",
      "   163       -211  pi-                 91    93     0     0     0     0     0      2.085     -4.913     -1.759      5.621      0.140\n",
      "   164       -311  (Kbar0)            -91    94     0   196   196     0     0      0.959     -2.058     -0.606      2.402      0.498\n",
      "   165        111  (pi0)              -91    94     0   245   246     0     0      1.671     -3.724     -1.577      4.378      0.135\n",
      "   166        211  pi+                 91    98     0     0     0     0     0      0.485     -0.008      0.044      0.507      0.140\n",
      "   167        111  (pi0)              -91    98     0   247   248     0     0     -0.248      0.157     -0.304      0.443      0.135\n",
      "   168        211  pi+                 91   102     0     0     0     0     0     -0.589      1.096      0.015      1.252      0.140\n",
      "   169       -211  pi-                 91   102     0     0     0     0     0      0.176      0.635     -0.132      0.686      0.140\n",
      "   170      -2112  nbar0               91   118     0     0     0     0     0     -0.657     -0.171   -271.200    271.203      0.940\n",
      "   171        211  pi+                 91   118     0     0     0     0     0     -0.129     -0.306    -54.626     54.627      0.140\n",
      "   172       -311  (Kbar0)            -91   122     0   197   197     0     0     -0.154     -0.069    -63.361     63.363      0.498\n",
      "   173       -211  pi-                 91   122     0     0     0     0     0     -0.204      0.259   -101.626    101.627      0.140\n",
      "   174        211  pi+                 91   126     0     0     0     0     0      0.325     -0.760     -0.212      0.864      0.140\n",
      "   175        111  (pi0)              -91   126     0   249   250     0     0      0.213      0.111     -0.284      0.396      0.135\n",
      "   176        211  pi+                 91   129     0     0     0     0     0      1.327     -1.536     -1.018      2.275      0.140\n",
      "   177       -211  pi-                 91   129     0     0     0     0     0      0.394     -0.194     -0.651      0.798      0.140\n",
      "   178        211  pi+                 91   130     0     0     0     0     0      0.731     -0.170     -0.067      0.767      0.140\n",
      "   179        111  (pi0)              -91   130     0   251   253     0     0      0.463     -0.740     -0.373      0.959      0.135\n",
      "   180       -211  pi-                 91   137     0     0     0     0     0      0.097      0.591     -0.774      0.989      0.140\n",
      "   181        111  (pi0)              -91   137     0   254   255     0     0      1.731      2.130     -2.864      3.969      0.135\n",
      "   182        211  pi+                 91   144     0     0     0     0     0     -0.397      0.366      0.637      0.847      0.140\n",
      "   183        111  (pi0)              -91   144     0   256   257     0     0     -0.116      0.730      0.023      0.752      0.135\n",
      "   184       3122  (Lambda0)          -91   146     0   258   259     0     0     -1.725      1.380      2.331      3.400      1.116\n",
      "   185        111  (pi0)              -91   146     0   260   261     0     0     -0.711      0.239      0.798      1.104      0.135\n",
      "   186        211  pi+                 91   147     0     0     0     0     0     -0.330     -0.153      0.343      0.519      0.140\n",
      "   187       -211  pi-                 91   147     0     0     0     0     0     -0.089      0.275     -0.061      0.327      0.140\n",
      "   188        211  pi+                 91   150     0     0     0     0     0      0.236     -0.114      8.622      8.627      0.140\n",
      "   189        111  (pi0)              -91   150     0   262   263     0     0      0.045      0.042      0.276      0.314      0.135\n",
      "   190        310  (K_S0)             -91   152   152   264   265     0     0      0.186     -0.092     19.833     19.840      0.498\n",
      "   191        130  K_L0                91   153   153     0     0     0     0     -0.319      0.060      6.851      6.877      0.498\n",
      "   192       -211  pi-                 91   154     0     0     0     0     0     -0.247     -0.001      6.265      6.271      0.140\n",
      "   193        111  (pi0)              -91   154     0   266   267     0     0      0.437      0.349     24.454     24.461      0.135\n",
      "   194        211  pi+                 91   158     0     0     0     0     0      0.168     -0.139    127.642    127.642      0.140\n",
      "   195       -211  pi-                 91   158     0     0     0     0     0     -0.332      0.211    158.035    158.036      0.140\n",
      "   196        310  (K_S0)             -91   164   164   268   269     0     0      0.959     -2.058     -0.606      2.402      0.498\n",
      "   197        130  K_L0                91   172   172     0     0     0     0     -0.154     -0.069    -63.361     63.363      0.498\n",
      "   198         22  gamma               91    99     0     0     0     0     0      0.333     -0.032      0.143      0.364      0.000\n",
      "   199         22  gamma               91    99     0     0     0     0     0      0.457      0.112      0.169      0.500      0.000\n",
      "   200         22  gamma               91   100     0     0     0     0     0      0.071      0.211      0.100      0.244      0.000\n",
      "   201         22  gamma               91   100     0     0     0     0     0      0.044      0.079     -0.044      0.101      0.000\n",
      "   202         22  gamma               91   101     0     0     0     0     0     -0.523      0.143     -0.068      0.546      0.000\n",
      "   203         22  gamma               91   101     0     0     0     0     0     -0.263      0.512     -0.422      0.714      0.000\n",
      "   204         22  gamma               91   103     0     0     0     0     0     -1.229      0.416     -0.407      1.360      0.000\n",
      "   205         22  gamma               91   103     0     0     0     0     0     -0.533      0.129     -0.097      0.557      0.000\n",
      "   206      -2112  nbar0               91   105     0     0     0     0     0    -13.445     15.019     -4.940     20.776      0.940\n",
      "   207        111  (pi0)              -91   105     0   270   271     0     0     -1.767      1.858     -0.704      2.662      0.135\n",
      "   208         22  gamma               91   119     0     0     0     0     0     -0.165     -0.241    -65.400     65.400      0.000\n",
      "   209         22  gamma               91   119     0     0     0     0     0     -0.078     -0.057    -44.066     44.066      0.000\n",
      "   210        211  pi+                 91   124     0     0     0     0     0      0.282      0.133     -0.685      0.766      0.140\n",
      "   211       -211  pi-                 91   124     0     0     0     0     0      0.008      0.057     -0.534      0.555      0.140\n",
      "   212        111  (pi0)              -91   124     0   272   273     0     0     -0.151      0.050     -0.076      0.222      0.135\n",
      "   213         22  gamma               91   127     0     0     0     0     0      0.486     -0.608     -0.589      0.977      0.000\n",
      "   214         22  gamma               91   127     0     0     0     0     0      0.128     -0.274     -0.287      0.417      0.000\n",
      "   215         22  gamma               91   131     0     0     0     0     0      0.942     -0.955     -0.591      1.466      0.000\n",
      "   216         22  gamma               91   131     0     0     0     0     0      1.252     -1.138     -0.616      1.801      0.000\n",
      "   217        211  pi+                 91   133     0     0     0     0     0      1.087      1.233     -2.149      2.709      0.140\n",
      "   218       -211  pi-                 91   133     0     0     0     0     0      0.023      0.040     -0.212      0.258      0.140\n",
      "   219        111  (pi0)              -91   133     0   274   275     0     0      0.223      0.425     -0.710      0.868      0.135\n",
      "   220         22  gamma               91   134     0     0     0     0     0      1.469      2.005     -2.358      3.426      0.000\n",
      "   221         22  gamma               91   134     0     0     0     0     0      0.338      0.552     -0.675      0.935      0.000\n",
      "   222        111  (pi0)              -91   135     0   276   277     0     0      0.881      0.949     -0.737      1.496      0.135\n",
      "   223         22  gamma               91   135     0     0     0     0     0      0.321      1.220     -1.268      1.788      0.000\n",
      "   224        111  (pi0)              -91   140     0   278   279     0     0     -0.320      0.115     -0.001      0.365      0.135\n",
      "   225        111  (pi0)              -91   140     0   280   281     0     0     -0.253      0.273     -0.124      0.415      0.135\n",
      "   226        111  (pi0)              -91   140     0   282   283     0     0     -0.194      0.139     -0.225      0.355      0.135\n",
      "   227        211  pi+                 91   142     0     0     0     0     0      0.228      0.213      0.308      0.460      0.140\n",
      "   228       -211  pi-                 91   142     0     0     0     0     0     -0.176      0.160      0.167      0.322      0.140\n",
      "   229        111  (pi0)              -91   142     0   284   285     0     0      0.371      0.233      0.204      0.502      0.135\n",
      "   230      -3122  (Lambdabar0)       -91   148     0   286   287     0     0     -0.288      0.116      4.521      4.667      1.116\n",
      "   231         22  gamma               91   148     0     0     0     0     0     -0.068     -0.035      0.544      0.549      0.000\n",
      "   232        111  (pi0)              -91   149     0   288   289     0     0     -0.143      0.173      2.860      2.872      0.135\n",
      "   233        111  (pi0)              -91   149     0   290   291     0     0     -0.109     -0.052      3.583      3.587      0.135\n",
      "   234        111  (pi0)              -91   149     0   292   293     0     0     -0.313      0.088      4.774      4.787      0.135\n",
      "   235        211  pi+                 91   151     0     0     0     0     0     -0.039     -0.072      2.034      2.041      0.140\n",
      "   236       -211  pi-                 91   151     0     0     0     0     0     -0.240      0.161      2.905      2.922      0.140\n",
      "   237        111  (pi0)              -91   151     0   294   295     0     0      0.222      0.215      4.667      4.679      0.135\n",
      "   238        211  pi+                 91   156     0     0     0     0     0      0.104      0.077     42.355     42.355      0.140\n",
      "   239       -211  pi-                 91   156     0     0     0     0     0      0.302     -0.382     60.761     60.763      0.140\n",
      "   240        111  (pi0)              -91   156     0   296   297     0     0     -0.116     -0.145     30.230     30.230      0.135\n",
      "   241        211  pi+                 91   159     0     0     0     0     0      1.388     -2.863     -1.160      3.390      0.140\n",
      "   242       -211  pi-                 91   159     0     0     0     0     0      3.391     -8.475     -3.331      9.718      0.140\n",
      "   243         22  gamma               91   161     0     0     0     0     0      0.772     -1.347     -0.843      1.766      0.000\n",
      "   244         22  gamma               91   161     0     0     0     0     0      0.531     -0.869     -0.436      1.108      0.000\n",
      "   245         22  gamma               91   165     0     0     0     0     0      1.195     -2.550     -1.042      3.003      0.000\n",
      "   246         22  gamma               91   165     0     0     0     0     0      0.476     -1.174     -0.535      1.375      0.000\n",
      "   247         22  gamma               91   167     0     0     0     0     0     -0.021      0.016     -0.110      0.113      0.000\n",
      "   248         22  gamma               91   167     0     0     0     0     0     -0.227      0.142     -0.194      0.331      0.000\n",
      "   249         22  gamma               91   175     0     0     0     0     0      0.191      0.081     -0.148      0.255      0.000\n",
      "   250         22  gamma               91   175     0     0     0     0     0      0.022      0.030     -0.135      0.140      0.000\n",
      "   251         22  gamma               91   179     0     0     0     0     0      0.376     -0.489     -0.244      0.663      0.000\n",
      "   252         11  e-                  91   179     0     0     0     0     0      0.005     -0.011     -0.007      0.014      0.001\n",
      "   253        -11  e+                  91   179     0     0     0     0     0      0.081     -0.240     -0.122      0.281      0.001\n",
      "   254         22  gamma               91   181     0     0     0     0     0      0.073      0.098     -0.091      0.152      0.000\n",
      "   255         22  gamma               91   181     0     0     0     0     0      1.658      2.032     -2.774      3.817      0.000\n",
      "   256         22  gamma               91   183     0     0     0     0     0     -0.137      0.704      0.017      0.718      0.000\n",
      "   257         22  gamma               91   183     0     0     0     0     0      0.021      0.026      0.006      0.034      0.000\n",
      "   258       2212  p+                  91   184     0     0     0     0     0     -1.469      1.112      1.830      2.761      0.938\n",
      "   259       -211  pi-                 91   184     0     0     0     0     0     -0.256      0.268      0.501      0.638      0.140\n",
      "   260         22  gamma               91   185     0     0     0     0     0     -0.456      0.198      0.592      0.773      0.000\n",
      "   261         22  gamma               91   185     0     0     0     0     0     -0.255      0.041      0.206      0.331      0.000\n",
      "   262         22  gamma               91   189     0     0     0     0     0     -0.009     -0.045      0.102      0.112      0.000\n",
      "   263         22  gamma               91   189     0     0     0     0     0      0.053      0.087      0.174      0.202      0.000\n",
      "   264        111  (pi0)              -91   190     0   298   299     0     0      0.195      0.094     14.625     14.628      0.135\n",
      "   265        111  (pi0)              -91   190     0   300   301     0     0     -0.009     -0.187      5.207      5.212      0.135\n",
      "   266         22  gamma               91   193     0     0     0     0     0      0.268      0.264     18.267     18.271      0.000\n",
      "   267         22  gamma               91   193     0     0     0     0     0      0.169      0.085      6.187      6.190      0.000\n",
      "   268        111  (pi0)              -91   196     0   302   303     0     0      0.765     -1.406     -0.260      1.627      0.135\n",
      "   269        111  (pi0)              -91   196     0   304   305     0     0      0.195     -0.652     -0.346      0.775      0.135\n",
      "   270         22  gamma               91   207     0     0     0     0     0     -0.752      0.820     -0.372      1.173      0.000\n",
      "   271         22  gamma               91   207     0     0     0     0     0     -1.015      1.038     -0.332      1.489      0.000\n",
      "   272         22  gamma               91   212     0     0     0     0     0     -0.171      0.064     -0.074      0.197      0.000\n",
      "   273         22  gamma               91   212     0     0     0     0     0      0.020     -0.014     -0.002      0.025      0.000\n",
      "   274         22  gamma               91   219     0     0     0     0     0     -0.001      0.057     -0.036      0.068      0.000\n",
      "   275         22  gamma               91   219     0     0     0     0     0      0.224      0.367     -0.674      0.800      0.000\n",
      "   276         22  gamma               91   222     0     0     0     0     0      0.292      0.400     -0.317      0.588      0.000\n",
      "   277         22  gamma               91   222     0     0     0     0     0      0.589      0.550     -0.421      0.909      0.000\n",
      "   278         22  gamma               91   224     0     0     0     0     0     -0.244      0.096      0.057      0.268      0.000\n",
      "   279         22  gamma               91   224     0     0     0     0     0     -0.075      0.019     -0.058      0.097      0.000\n",
      "   280         22  gamma               91   225     0     0     0     0     0     -0.137      0.181     -0.009      0.228      0.000\n",
      "   281         22  gamma               91   225     0     0     0     0     0     -0.116      0.092     -0.115      0.188      0.000\n",
      "   282         22  gamma               91   226     0     0     0     0     0     -0.097      0.023     -0.163      0.191      0.000\n",
      "   283         22  gamma               91   226     0     0     0     0     0     -0.098      0.116     -0.061      0.164      0.000\n",
      "   284         22  gamma               91   229     0     0     0     0     0      0.231      0.197      0.086      0.316      0.000\n",
      "   285         22  gamma               91   229     0     0     0     0     0      0.140      0.036      0.117      0.186      0.000\n",
      "   286      -2212  pbar-               91   230     0     0     0     0     0     -0.206      0.104      3.413      3.547      0.938\n",
      "   287        211  pi+                 91   230     0     0     0     0     0     -0.081      0.012      1.108      1.120      0.140\n",
      "   288         22  gamma               91   232     0     0     0     0     0     -0.079      0.167      2.446      2.453      0.000\n",
      "   289         22  gamma               91   232     0     0     0     0     0     -0.064      0.006      0.414      0.419      0.000\n",
      "   290         22  gamma               91   233     0     0     0     0     0     -0.102     -0.084      2.051      2.056      0.000\n",
      "   291         22  gamma               91   233     0     0     0     0     0     -0.007      0.032      1.531      1.532      0.000\n",
      "   292         22  gamma               91   234     0     0     0     0     0      0.013      0.009      0.303      0.303      0.000\n",
      "   293         22  gamma               91   234     0     0     0     0     0     -0.326      0.079      4.471      4.484      0.000\n",
      "   294         22  gamma               91   237     0     0     0     0     0      0.145      0.052      1.850      1.857      0.000\n",
      "   295         22  gamma               91   237     0     0     0     0     0      0.077      0.163      2.816      2.822      0.000\n",
      "   296         22  gamma               91   240     0     0     0     0     0     -0.107     -0.070     24.965     24.966      0.000\n",
      "   297         22  gamma               91   240     0     0     0     0     0     -0.009     -0.075      5.264      5.265      0.000\n",
      "   298         22  gamma               91   264     0     0     0     0     0      0.035      0.087      4.808      4.809      0.000\n",
      "   299         22  gamma               91   264     0     0     0     0     0      0.160      0.007      9.818      9.819      0.000\n",
      "   300         22  gamma               91   265     0     0     0     0     0      0.013     -0.051      3.194      3.195      0.000\n",
      "   301         22  gamma               91   265     0     0     0     0     0     -0.022     -0.135      2.013      2.017      0.000\n",
      "   302         22  gamma               91   268     0     0     0     0     0      0.585     -1.179     -0.198      1.331      0.000\n",
      "   303         22  gamma               91   268     0     0     0     0     0      0.179     -0.226     -0.062      0.296      0.000\n",
      "   304         22  gamma               91   269     0     0     0     0     0      0.098     -0.254     -0.209      0.343      0.000\n",
      "   305         22  gamma               91   269     0     0     0     0     0      0.097     -0.398     -0.137      0.432      0.000\n",
      "                                   Charge sum:  0.000           Momentum sum:      0.000     -0.000      0.000   1960.000   1960.000\n",
      "\n",
      " --------  End PYTHIA Event Listing  -----------------------------------------------------------------------------------------------\n",
      " PYTHIA Warning in StringFragmentation::fragmentToJunction: bad convergence junction rest frame  \n",
      " PYTHIA Error in StringFragmentation::fragment: stuck in joining  \n",
      " PYTHIA Error in Pythia::next: hadronLevel failed; try again  \n"
     ]
    }
   ],
   "source": [
    "histograms = @cxx pythia->runExperiment();  "
   ]
  },
  {
   "cell_type": "code",
   "execution_count": 35,
   "metadata": {},
   "outputs": [
    {
     "data": {
      "text/plain": [
       "(class std::vector<class std::vector<double, class std::allocator<double> >, class std::allocator<class std::vector<double, class std::allocator<double> > > >) {\n",
       "}\n"
      ]
     },
     "execution_count": 35,
     "metadata": {},
     "output_type": "execute_result"
    }
   ],
   "source": [
    "histograms # vector list"
   ]
  },
  {
   "cell_type": "markdown",
   "metadata": {},
   "source": [
    "Get the data"
   ]
  },
  {
   "cell_type": "code",
   "execution_count": 22,
   "metadata": {},
   "outputs": [],
   "source": [
    "histogramList = []\n",
    "for h in histograms\n",
    "    my_histo = []\n",
    "    for d in h\n",
    "        push!(my_histo,collect(d))\n",
    "    end\n",
    "    push!(histogramList,my_histo)\n",
    "end"
   ]
  },
  {
   "cell_type": "code",
   "execution_count": 23,
   "metadata": {},
   "outputs": [
    {
     "name": "stdout",
     "output_type": "stream",
     "text": [
      "Histogram list\n",
      "[1] data: pT pdg: 23\n"
     ]
    }
   ],
   "source": [
    "@cxx pythia -> listElement(pointer(\"histogram\"))"
   ]
  },
  {
   "cell_type": "markdown",
   "metadata": {},
   "source": [
    "Plotting the histograms."
   ]
  },
  {
   "cell_type": "code",
   "execution_count": 24,
   "metadata": {},
   "outputs": [
    {
     "name": "stderr",
     "output_type": "stream",
     "text": [
      "┌ Info: Precompiling Plots [91a5bcdd-55d7-5caf-9e0b-520d859cae80]\n",
      "└ @ Base loading.jl:1273\n",
      "┌ Info: Precompiling PyPlot [d330b81b-6aea-500a-939a-2ce795aea3ee]\n",
      "└ @ Base loading.jl:1273\n"
     ]
    },
    {
     "data": {
      "text/plain": [
       "Plots.PyPlotBackend()"
      ]
     },
     "execution_count": 24,
     "metadata": {},
     "output_type": "execute_result"
    }
   ],
   "source": [
    "using Plots\n",
    "pyplot()"
   ]
  },
  {
   "cell_type": "code",
   "execution_count": 26,
   "metadata": {},
   "outputs": [
    {
     "data": {
      "image/png": "[encoded data removed]",
      "text/plain": [
       "PyPlot.Figure(PyObject <Figure size 640x480 with 1 Axes>)"
      ]
     },
     "metadata": {},
     "output_type": "display_data"
    },
    {
     "data": {
      "text/plain": [
       "PyObject Text(24.000000000000007, 0.5, 'Counts')"
      ]
     },
     "execution_count": 26,
     "metadata": {},
     "output_type": "execute_result"
    }
   ],
   "source": [
    "PyPlot.hist(histogramList[1],100,[0,100]);\n",
    "PyPlot.title(\"dN/dpTZ (Boson Z⁰)\")\n",
    "PyPlot.grid(\"on\")\n",
    "PyPlot.xlabel(\"pT (GeV/c)\")\n",
    "PyPlot.ylabel(\"Counts\")"
   ]
  },
  {
   "cell_type": "markdown",
   "metadata": {},
   "source": [
    "Event list CSV file."
   ]
  },
  {
   "cell_type": "code",
   "execution_count": 31,
   "metadata": {},
   "outputs": [],
   "source": [
    "using CSV, DataFrames"
   ]
  },
  {
   "cell_type": "code",
   "execution_count": 32,
   "metadata": {},
   "outputs": [],
   "source": [
    "df = CSV.read(\"my_out_csv.csv\");"
   ]
  },
  {
   "cell_type": "code",
   "execution_count": 33,
   "metadata": {},
   "outputs": [
    {
     "data": {
      "text/plain": [
       "15-element Array{String,1}:\n",
       " \"event\"    \n",
       " \"id\"       \n",
       " \"particle\" \n",
       " \"status\"   \n",
       " \"mother1\"  \n",
       " \"mother2\"  \n",
       " \"daughter1\"\n",
       " \"daughter2\"\n",
       " \"colour\"   \n",
       " \"acolour\"  \n",
       " \"px\"       \n",
       " \"py\"       \n",
       " \"pz\"       \n",
       " \"e\"        \n",
       " \"m\"        "
      ]
     },
     "execution_count": 33,
     "metadata": {},
     "output_type": "execute_result"
    }
   ],
   "source": [
    "names(df)"
   ]
  },
  {
   "cell_type": "code",
   "execution_count": 34,
   "metadata": {},
   "outputs": [
    {
     "name": "stdout",
     "output_type": "stream",
     "text": [
      "6×15 DataFrame\n",
      "│ Row │ event │ id    │ particle │ status │ mother1 │ mother2 │ daughter1 │\n",
      "│     │ \u001b[90mInt64\u001b[39m │ \u001b[90mInt64\u001b[39m │ \u001b[90mString\u001b[39m   │ \u001b[90mInt64\u001b[39m  │ \u001b[90mInt64\u001b[39m   │ \u001b[90mInt64\u001b[39m   │ \u001b[90mInt64\u001b[39m     │\n",
      "├─────┼───────┼───────┼──────────┼────────┼─────────┼─────────┼───────────┤\n",
      "│ 1   │ 0     │ 90    │ (system) │ -11    │ 0       │ 0       │ 0         │\n",
      "│ 2   │ 1     │ 2212  │ (p+)     │ -12    │ 0       │ 0       │ 204       │\n",
      "│ 3   │ 2     │ -2212 │ (pbar-)  │ -12    │ 0       │ 0       │ 205       │\n",
      "│ 4   │ 3     │ 2     │ (u)      │ -21    │ 6       │ 0       │ 5         │\n",
      "│ 5   │ 4     │ -2    │ (ubar)   │ -21    │ 7       │ 7       │ 5         │\n",
      "│ 6   │ 5     │ 23    │ (Z0)     │ -22    │ 3       │ 4       │ 8         │\n",
      "\n",
      "│ Row │ daughter2 │ colour │ acolour │ px      │ py      │ pz      │ e       │\n",
      "│     │ \u001b[90mInt64\u001b[39m     │ \u001b[90mInt64\u001b[39m  │ \u001b[90mInt64\u001b[39m   │ \u001b[90mFloat64\u001b[39m │ \u001b[90mFloat64\u001b[39m │ \u001b[90mFloat64\u001b[39m │ \u001b[90mFloat64\u001b[39m │\n",
      "├─────┼───────────┼────────┼─────────┼─────────┼─────────┼─────────┼─────────┤\n",
      "│ 1   │ 0         │ 0      │ 0       │ 0.0     │ 0.0     │ 0.0     │ 1960.0  │\n",
      "│ 2   │ 0         │ 0      │ 0       │ 0.0     │ 0.0     │ 980.0   │ 980.0   │\n",
      "│ 3   │ 0         │ 0      │ 0       │ 0.0     │ 0.0     │ -980.0  │ 980.0   │\n",
      "│ 4   │ 0         │ 101    │ 0       │ 0.0     │ 0.0     │ 31.73   │ 31.73   │\n",
      "│ 5   │ 0         │ 0      │ 101     │ 0.0     │ 0.0     │ -57.46  │ 57.46   │\n",
      "│ 6   │ 8         │ 0      │ 0       │ 0.0     │ 0.0     │ -25.73  │ 89.19   │\n",
      "\n",
      "│ Row │ m       │\n",
      "│     │ \u001b[90mFloat64\u001b[39m │\n",
      "├─────┼─────────┤\n",
      "│ 1   │ 1960.0  │\n",
      "│ 2   │ 0.9383  │\n",
      "│ 3   │ 0.9383  │\n",
      "│ 4   │ 0.0     │\n",
      "│ 5   │ 0.0     │\n",
      "│ 6   │ 85.4    │"
     ]
    }
   ],
   "source": [
    "show(df[1:6,:], allcols=true)"
   ]
  },
  {
   "cell_type": "code",
   "execution_count": null,
   "metadata": {},
   "outputs": [],
   "source": []
  }
 ],
 "metadata": {
  "kernelspec": {
   "display_name": "Julia 1.3.1",
   "language": "julia",
   "name": "julia-1.3"
  },
  "language_info": {
   "file_extension": ".jl",
   "mimetype": "application/julia",
   "name": "julia",
   "version": "1.3.1"
  }
 },
 "nbformat": 4,
 "nbformat_minor": 4
}